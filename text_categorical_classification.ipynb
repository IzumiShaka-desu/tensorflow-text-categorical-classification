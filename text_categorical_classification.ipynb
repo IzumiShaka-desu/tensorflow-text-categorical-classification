{
  "nbformat": 4,
  "nbformat_minor": 0,
  "metadata": {
    "colab": {
      "name": "text-categorical-classification.ipynb",
      "provenance": []
    },
    "kernelspec": {
      "name": "python3",
      "display_name": "Python 3"
    }
  },
  "cells": [
    {
      "cell_type": "code",
      "metadata": {
        "id": "r3R-1QcEzmCy"
      },
      "source": [
        "import csv\r\n",
        "import tensorflow as tf\r\n",
        "import numpy as np\r\n",
        "from tensorflow.keras.preprocessing.text import Tokenizer\r\n",
        "import pandas as pd\r\n",
        "from sklearn.model_selection import train_test_split\r\n",
        "from tensorflow.keras.preprocessing.sequence import pad_sequences"
      ],
      "execution_count": null,
      "outputs": []
    },
    {
      "cell_type": "code",
      "metadata": {
        "colab": {
          "base_uri": "https://localhost:8080/"
        },
        "id": "H50xh_MByYkH",
        "outputId": "c444c5d6-7ed4-4ac8-fa67-a78cb0f55f02"
      },
      "source": [
        "from google.colab import drive\n",
        "drive.mount('/content/drive')"
      ],
      "execution_count": 2,
      "outputs": [
        {
          "output_type": "stream",
          "text": [
            "Drive already mounted at /content/drive; to attempt to forcibly remount, call drive.mount(\"/content/drive\", force_remount=True).\n"
          ],
          "name": "stdout"
        }
      ]
    },
    {
      "cell_type": "code",
      "metadata": {
        "colab": {
          "base_uri": "https://localhost:8080/",
          "height": 204
        },
        "id": "6ZRJbbCG17zr",
        "outputId": "7b6f38fa-5255-43cb-dcaf-7244b0e7ad7c"
      },
      "source": [
        "df=pd.read_csv(f'/content/drive/MyDrive/dataset/bbc-text.csv')\r\n",
        "df.reset_index(drop=True, inplace=True)\r\n",
        "df.tail()"
      ],
      "execution_count": null,
      "outputs": [
        {
          "output_type": "execute_result",
          "data": {
            "text/html": [
              "<div>\n",
              "<style scoped>\n",
              "    .dataframe tbody tr th:only-of-type {\n",
              "        vertical-align: middle;\n",
              "    }\n",
              "\n",
              "    .dataframe tbody tr th {\n",
              "        vertical-align: top;\n",
              "    }\n",
              "\n",
              "    .dataframe thead th {\n",
              "        text-align: right;\n",
              "    }\n",
              "</style>\n",
              "<table border=\"1\" class=\"dataframe\">\n",
              "  <thead>\n",
              "    <tr style=\"text-align: right;\">\n",
              "      <th></th>\n",
              "      <th>category</th>\n",
              "      <th>text</th>\n",
              "    </tr>\n",
              "  </thead>\n",
              "  <tbody>\n",
              "    <tr>\n",
              "      <th>2220</th>\n",
              "      <td>business</td>\n",
              "      <td>cars pull down us retail figures us retail sal...</td>\n",
              "    </tr>\n",
              "    <tr>\n",
              "      <th>2221</th>\n",
              "      <td>politics</td>\n",
              "      <td>kilroy unveils immigration policy ex-chatshow ...</td>\n",
              "    </tr>\n",
              "    <tr>\n",
              "      <th>2222</th>\n",
              "      <td>entertainment</td>\n",
              "      <td>rem announce new glasgow concert us band rem h...</td>\n",
              "    </tr>\n",
              "    <tr>\n",
              "      <th>2223</th>\n",
              "      <td>politics</td>\n",
              "      <td>how political squabbles snowball it s become c...</td>\n",
              "    </tr>\n",
              "    <tr>\n",
              "      <th>2224</th>\n",
              "      <td>sport</td>\n",
              "      <td>souness delight at euro progress boss graeme s...</td>\n",
              "    </tr>\n",
              "  </tbody>\n",
              "</table>\n",
              "</div>"
            ],
            "text/plain": [
              "           category                                               text\n",
              "2220       business  cars pull down us retail figures us retail sal...\n",
              "2221       politics  kilroy unveils immigration policy ex-chatshow ...\n",
              "2222  entertainment  rem announce new glasgow concert us band rem h...\n",
              "2223       politics  how political squabbles snowball it s become c...\n",
              "2224          sport  souness delight at euro progress boss graeme s..."
            ]
          },
          "metadata": {
            "tags": []
          },
          "execution_count": 35
        }
      ]
    },
    {
      "cell_type": "code",
      "metadata": {
        "colab": {
          "base_uri": "https://localhost:8080/"
        },
        "id": "bgvyI4Jq7ULY",
        "outputId": "20d6d0de-2045-4d9a-b77d-ee2f74abbe4e"
      },
      "source": [
        "label_count=len(pd.get_dummies(df['category']).columns.values)\r\n",
        "label_count"
      ],
      "execution_count": null,
      "outputs": [
        {
          "output_type": "execute_result",
          "data": {
            "text/plain": [
              "5"
            ]
          },
          "metadata": {
            "tags": []
          },
          "execution_count": 36
        }
      ]
    },
    {
      "cell_type": "code",
      "metadata": {
        "id": "sYJahrJ-2LWP"
      },
      "source": [
        "news_train,news_test,label_train,label_test=train_test_split(df['text'].values,df['category'].values,test_size=0.2)"
      ],
      "execution_count": null,
      "outputs": []
    },
    {
      "cell_type": "code",
      "metadata": {
        "id": "HYZv7TD93NWL"
      },
      "source": [
        "tokenizer = Tokenizer(num_words = 5000, oov_token='--')\r\n",
        "tokenizer.fit_on_texts(news_train)\r\n",
        "train_sequences = tokenizer.texts_to_sequences(news_train)\r\n",
        "train_padded = pad_sequences(train_sequences, maxlen=300, padding='post', truncating='post')\r\n",
        "test_sequences = tokenizer.texts_to_sequences(news_test)\r\n",
        "test_padded = pad_sequences(test_sequences, maxlen=300, padding='post', truncating='post')\r\n"
      ],
      "execution_count": null,
      "outputs": []
    },
    {
      "cell_type": "code",
      "metadata": {
        "id": "_aFvR7YU6BPI"
      },
      "source": [
        "label_tokenizer = Tokenizer()\r\n",
        "label_tokenizer.fit_on_texts(df['category'].values)\r\n",
        "\r\n",
        "train_label_seq = np.array(label_tokenizer.texts_to_sequences(label_train))\r\n",
        "test_label_seq = np.array(label_tokenizer.texts_to_sequences(label_test))\r\n"
      ],
      "execution_count": null,
      "outputs": []
    },
    {
      "cell_type": "code",
      "metadata": {
        "id": "7ylHC7UD8PY_"
      },
      "source": [
        "import tensorflow as tf\r\n",
        "class myCallback(tf.keras.callbacks.Callback):\r\n",
        "  def on_epoch_end(self, epoch, logs={}):\r\n",
        "    if(logs.get('accuracy')>0.92 and  logs.get('val_accuracy')>0.92):\r\n",
        "      print(\"\\nAkurasi telah mencapai >92%!\")\r\n",
        "      self.model.stop_training = True\r\n",
        "callbacks = [myCallback()]"
      ],
      "execution_count": null,
      "outputs": []
    },
    {
      "cell_type": "code",
      "metadata": {
        "id": "EviU3adC7Jv3"
      },
      "source": [
        "\r\n",
        "model = tf.keras.Sequential([\r\n",
        "    tf.keras.layers.Embedding(input_dim=5000, output_dim=64),\r\n",
        "    tf.keras.layers.Bidirectional(tf.keras.layers.LSTM(64)),\r\n",
        "    tf.keras.layers.Dropout(0.5),\r\n",
        "    tf.keras.layers.Dense(64, activation='relu'),\r\n",
        "    tf.keras.layers.Dropout(0.5),\r\n",
        "    tf.keras.layers.Dense(6, activation='softmax')\r\n",
        "])"
      ],
      "execution_count": null,
      "outputs": []
    },
    {
      "cell_type": "code",
      "metadata": {
        "id": "hhAChfHb6q45"
      },
      "source": [
        "model.compile(loss='sparse_categorical_crossentropy', optimizer='adam', metrics=['accuracy'])\r\n",
        "# perbedaan categorical_crossentropy dengan sparse categorical crossentrophy\r\n",
        "# kalo cate itu labelnya [[0,0,0,1],[0,1,0,0],[0,1,0,0]] kalo sparse [[4],[3],[1]] lebih enak sparse eak\r\n",
        "  "
      ],
      "execution_count": null,
      "outputs": []
    },
    {
      "cell_type": "code",
      "metadata": {
        "colab": {
          "base_uri": "https://localhost:8080/"
        },
        "id": "ElqE2ghm8UEP",
        "outputId": "91993040-a6dd-46ae-d4a0-2837a86c7623"
      },
      "source": [
        "num_epochs = 15\r\n",
        "history = model.fit(train_padded, train_label_seq, epochs=num_epochs, \r\n",
        "                    validation_data=(test_padded , test_label_seq), verbose=2,batch_size=128,callbacks=callbacks)"
      ],
      "execution_count": null,
      "outputs": [
        {
          "output_type": "stream",
          "text": [
            "Epoch 1/15\n",
            "14/14 - 14s - loss: 1.7667 - accuracy: 0.2146 - val_loss: 1.7170 - val_accuracy: 0.2090\n",
            "Epoch 2/15\n",
            "14/14 - 10s - loss: 1.6637 - accuracy: 0.2382 - val_loss: 1.5851 - val_accuracy: 0.2944\n",
            "Epoch 3/15\n",
            "14/14 - 10s - loss: 1.5910 - accuracy: 0.2938 - val_loss: 1.5304 - val_accuracy: 0.3438\n",
            "Epoch 4/15\n",
            "14/14 - 10s - loss: 1.4579 - accuracy: 0.3725 - val_loss: 1.4111 - val_accuracy: 0.3933\n",
            "Epoch 5/15\n",
            "14/14 - 10s - loss: 1.3398 - accuracy: 0.4258 - val_loss: 1.1071 - val_accuracy: 0.5528\n",
            "Epoch 6/15\n",
            "14/14 - 10s - loss: 1.0113 - accuracy: 0.5921 - val_loss: 0.9190 - val_accuracy: 0.6494\n",
            "Epoch 7/15\n",
            "14/14 - 10s - loss: 0.8466 - accuracy: 0.6551 - val_loss: 0.7111 - val_accuracy: 0.7551\n",
            "Epoch 8/15\n",
            "14/14 - 10s - loss: 0.6314 - accuracy: 0.7163 - val_loss: 0.6860 - val_accuracy: 0.7528\n",
            "Epoch 9/15\n",
            "14/14 - 10s - loss: 0.6570 - accuracy: 0.7124 - val_loss: 0.5245 - val_accuracy: 0.8337\n",
            "Epoch 10/15\n",
            "14/14 - 10s - loss: 0.6970 - accuracy: 0.7152 - val_loss: 0.5501 - val_accuracy: 0.8831\n",
            "Epoch 11/15\n",
            "14/14 - 10s - loss: 0.4192 - accuracy: 0.8669 - val_loss: 0.3185 - val_accuracy: 0.9326\n",
            "Epoch 12/15\n",
            "14/14 - 10s - loss: 0.2149 - accuracy: 0.9427 - val_loss: 0.1924 - val_accuracy: 0.9438\n",
            "\n",
            "Akurasi telah mencapai >92%!\n"
          ],
          "name": "stdout"
        }
      ]
    },
    {
      "cell_type": "code",
      "metadata": {
        "colab": {
          "base_uri": "https://localhost:8080/",
          "height": 295
        },
        "id": "k66DetOiJBZ-",
        "outputId": "f81368a2-9f31-45b8-affa-1ef3df5f4274"
      },
      "source": [
        "import matplotlib.pyplot as plt\r\n",
        "\r\n",
        "plt.plot(history.history['accuracy'])\r\n",
        "plt.plot(history.history['val_accuracy'])\r\n",
        "plt.title('Model accuracy')\r\n",
        "plt.ylabel('Accuracy')\r\n",
        "plt.xlabel('Epoch')\r\n",
        "plt.legend(['Train','Test'], loc='best')\r\n",
        "plt.show()"
      ],
      "execution_count": null,
      "outputs": [
        {
          "output_type": "display_data",
          "data": {
            "image/png": "[encoded data removed]",
            "text/plain": [
              "<Figure size 432x288 with 1 Axes>"
            ]
          },
          "metadata": {
            "tags": [],
            "needs_background": "light"
          }
        }
      ]
    },
    {
      "cell_type": "code",
      "metadata": {
        "colab": {
          "base_uri": "https://localhost:8080/",
          "height": 295
        },
        "id": "JJ3WtPIJKo9g",
        "outputId": "9e829276-150f-4973-83d0-f316e4fc2a06"
      },
      "source": [
        "import matplotlib.pyplot as plt\r\n",
        "\r\n",
        "plt.plot(history.history['loss'])\r\n",
        "plt.plot(history.history['val_loss'])\r\n",
        "plt.title('Model loss')\r\n",
        "plt.ylabel('Accuracy')\r\n",
        "plt.xlabel('Epoch')\r\n",
        "plt.legend(['Train','Test'], loc='best')\r\n",
        "plt.show()"
      ],
      "execution_count": null,
      "outputs": [
        {
          "output_type": "display_data",
          "data": {
            "image/png": "[encoded data removed]",
            "text/plain": [
              "<Figure size 432x288 with 1 Axes>"
            ]
          },
          "metadata": {
            "tags": [],
            "needs_background": "light"
          }
        }
      ]
    }
  ]
}